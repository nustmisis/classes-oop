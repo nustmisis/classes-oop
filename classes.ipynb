{
 "cells": [
  {
   "cell_type": "markdown",
   "metadata": {},
   "source": [
    "## Классы"
   ]
  },
  {
   "cell_type": "markdown",
   "metadata": {},
   "source": [
    "Классы являются одним из ключевых понятий объектно-ориентированного\n",
    "программирования (ООП) и представляют собой модель для создания объектов\n",
    "определенного типа. \n",
    "\n",
    "Классы описывают структуру данных объекта (набор полей и их\n",
    "начальное значение) и определяют алгоритмы (фукнции и методы) для работы с ними.\n",
    "\n",
    "В языке Python класс создает новый *тип* объекта, что позволяет создавать\n",
    "*экземпляры* этого типа."
   ]
  },
  {
   "cell_type": "code",
   "execution_count": 1,
   "metadata": {},
   "outputs": [
    {
     "name": "stdout",
     "output_type": "stream",
     "text": [
      "<class '__main__.Employee'>\n"
     ]
    }
   ],
   "source": [
    "class Employee:\n",
    "    pass\n",
    "\n",
    "emp = Employee() # emp - экземпляр класса Employee\n",
    "\n",
    "print(type(emp))"
   ]
  },
  {
   "cell_type": "markdown",
   "metadata": {},
   "source": [
    "Определение класса состоит из ключевого слова `class`, имени класса и блока\n",
    "инструкций, составляющих тело класса."
   ]
  },
  {
   "cell_type": "code",
   "execution_count": 8,
   "metadata": {},
   "outputs": [
    {
     "name": "stdout",
     "output_type": "stream",
     "text": [
      "hi!\n"
     ]
    }
   ],
   "source": [
    "class A:\n",
    "    a = 1\n",
    "    def say_hi():\n",
    "        print(\"hi!\")\n",
    "    if a > 0:\n",
    "        say_hi()"
   ]
  },
  {
   "cell_type": "markdown",
   "metadata": {},
   "source": [
    "Инструкции в теле класса могут быть любыми инструкциями Python, однако на\n",
    "практике чаще всего используются объявления функций (`def ...():`).\n",
    "\n",
    "Объявления классов являются исполняемым кодом и могут, например, располагаться\n",
    "внутри других блоков. \n",
    "\n",
    "Все имена переменных, объявленные внутри тела класса, привязываются к\n",
    "пространству имен, которое прикрепляется к *объекту класса*. \n",
    "\n",
    "Обхекты класса поддерживают две операции: обращение к своим атрибутам и инстанциирование.\n",
    "\n",
    "Для доступа к атрибутам объекта класса используется стандартный синтаксис\n",
    "обращения к атрибутам: `obj.name` (где `obj` &mdash; имя класса, а `name`\n",
    "&mdash; имя атрибута)."
   ]
  },
  {
   "cell_type": "code",
   "execution_count": 12,
   "metadata": {},
   "outputs": [
    {
     "name": "stdout",
     "output_type": "stream",
     "text": [
      "<class '__main__.Foo'>\n",
      "1\n",
      "2\n",
      "foobar\n"
     ]
    }
   ],
   "source": [
    "if 1 > 0:\n",
    "    class Foo:\n",
    "        a = 1\n",
    "        b = 2\n",
    "\n",
    "        def bar():\n",
    "            print(\"foobar\")\n",
    "\n",
    "    # теперь Foo - объект класса\n",
    "\n",
    "    print(Foo)\n",
    "    print(Foo.a)\n",
    "    print(Foo.b)\n",
    "    Foo.bar()\n"
   ]
  },
  {
   "cell_type": "markdown",
   "metadata": {},
   "source": [
    "Инстанциирование (instantiation) &mdash; процесс создания экземпляра (instance)\n",
    "класса. Для инстанциирования используется тот же синтаксис, что и для вызова функций.\n",
    "\n",
    "Код ниже:"
   ]
  },
  {
   "cell_type": "code",
   "execution_count": 13,
   "metadata": {},
   "outputs": [],
   "source": [
    "class MyClass: \n",
    "    pass\n",
    "\n",
    "x = MyClass()"
   ]
  },
  {
   "cell_type": "markdown",
   "metadata": {},
   "source": [
    "создает новый экземпляр класса `MyClass` и привязывает его к имени `x`."
   ]
  },
  {
   "cell_type": "markdown",
   "metadata": {},
   "source": [
    "По умолчанию инстанциирование создает пустой объект. Для того, чтобы создавать объекты с определенным начальным состоянием, классы могут определять специальный метод `__init__()`:"
   ]
  },
  {
   "cell_type": "code",
   "execution_count": 14,
   "metadata": {},
   "outputs": [
    {
     "data": {
      "text/plain": [
       "(0, 1)"
      ]
     },
     "execution_count": 14,
     "metadata": {},
     "output_type": "execute_result"
    }
   ],
   "source": [
    "class Circle:\n",
    "    def __init__(self, x, y, radius) -> None:\n",
    "        self.center = x, y\n",
    "        self.radius = radius\n",
    "\n",
    "c = Circle(0, 1, 5)\n",
    "c.center"
   ]
  },
  {
   "cell_type": "markdown",
   "metadata": {},
   "source": [
    "Все аргументы, передаваемые объекту класса при инстанциировании, передаются в\n",
    "метод `__init__()` после специального аргумента `self`, который ссылается на\n",
    "только что созданный экземпляр класса. \n",
    "\n",
    "Само имя `self` не является особенным &mdash; его использование в качестве имени\n",
    "первого параметра методов является негласным правилом."
   ]
  },
  {
   "cell_type": "markdown",
   "metadata": {},
   "source": [
    "Экземпляры класса имеют два вида атрибутов: поля и методы. \n",
    "\n",
    "Поля экземпляров, подобно переменным, создаются в момент первой записи в них.\n",
    "Таким образом, можно объявлять поля класса внутри метода `__init__()` (с помощью\n",
    "параметра `self`) или в любой момент выполнения программы:"
   ]
  },
  {
   "cell_type": "code",
   "execution_count": 15,
   "metadata": {},
   "outputs": [
    {
     "data": {
      "text/plain": [
       "2"
      ]
     },
     "execution_count": 15,
     "metadata": {},
     "output_type": "execute_result"
    }
   ],
   "source": [
    "class MyClass:\n",
    "    def __init__(self) -> None:\n",
    "        self.a = 1\n",
    "\n",
    "x = MyClass()\n",
    "x.b = x.a + 1 # type: ignore\n",
    "\n",
    "x.b # type: ignore"
   ]
  },
  {
   "cell_type": "markdown",
   "metadata": {},
   "source": [
    "Методы экземпляров, как правило, объявляются внутри их классов и вызываются\n",
    "подобно функциям."
   ]
  },
  {
   "cell_type": "code",
   "execution_count": 18,
   "metadata": {},
   "outputs": [
    {
     "data": {
      "text/plain": [
       "28.274333882308138"
      ]
     },
     "execution_count": 18,
     "metadata": {},
     "output_type": "execute_result"
    }
   ],
   "source": [
    "import math\n",
    "\n",
    "class Circle:\n",
    "    def __init__(self, x, y, radius) -> None:\n",
    "        self.center = x, y\n",
    "        self.radius = radius\n",
    "\n",
    "    def area(self):\n",
    "        return math.pi * self.radius ** 2\n",
    "\n",
    "c = Circle(0, 1, 3)\n",
    "c.area()"
   ]
  },
  {
   "cell_type": "markdown",
   "metadata": {},
   "source": [
    "Обратите внимание, что вызванный метод определяет один параметр, но был вызван\n",
    "без параметров вовсе. По правилам Python, функция, определяющая параметры, не\n",
    "может быть вызвана без них, и этот случай не исключение.\n",
    "\n",
    "Методы вызываются по следующей логике: при обращении к атрибуту экземпляра, не\n",
    "являющемуся полем, происходит поиск соответствующего класса на предмет атрибутов\n",
    "с нужным именем. Если такой атрибут определен и является функцией, экзепляр и найденная функция упаковываются в *объект метода*."
   ]
  },
  {
   "cell_type": "code",
   "execution_count": 19,
   "metadata": {},
   "outputs": [
    {
     "name": "stdout",
     "output_type": "stream",
     "text": [
      "<bound method Circle.surface_area of <__main__.Circle object at 0x7f36c9c4f750>>\n"
     ]
    }
   ],
   "source": [
    "mo = c.area\n",
    "print(mo)"
   ]
  },
  {
   "cell_type": "markdown",
   "metadata": {},
   "source": [
    "При вызове объекта метода со списком аргументов, создается новый список\n",
    "аргументов, состоящий из ссылки на экземпляр и исходного списка аргументов,\n",
    "после чего функция метода вызывается с этими аргументами."
   ]
  },
  {
   "cell_type": "code",
   "execution_count": 21,
   "metadata": {},
   "outputs": [
    {
     "name": "stdout",
     "output_type": "stream",
     "text": [
      "3\n",
      "3\n"
     ]
    }
   ],
   "source": [
    "class MyNum:\n",
    "    def __init__(self, num):\n",
    "        self.num = num\n",
    "\n",
    "    def plus(self, other):\n",
    "        return self.num + other\n",
    "    \n",
    "n = MyNum(1)        # создается экземпляр класса n\n",
    "\n",
    "pl = n.plus         # создается объект метода MyNum.plus, привязанный к n\n",
    "\n",
    "print(pl(2))        # MyNum.plus вызывается с аргументами n и 2\n",
    "\n",
    "print(n.plus(2))    # то же самое в одной строке"
   ]
  },
  {
   "cell_type": "markdown",
   "metadata": {},
   "source": [
    "Таким образом, вызов метода экземпляра эквивалентен вызову функции исходного\n",
    "класса с передачей экземпляра в качестве первого аргумента:"
   ]
  },
  {
   "cell_type": "code",
   "execution_count": 22,
   "metadata": {},
   "outputs": [
    {
     "data": {
      "text/plain": [
       "True"
      ]
     },
     "execution_count": 22,
     "metadata": {},
     "output_type": "execute_result"
    }
   ],
   "source": [
    "MyNum.plus(n, 2) == n.plus(2)"
   ]
  },
  {
   "cell_type": "markdown",
   "metadata": {},
   "source": [
    "Атрибуты, объявленные в классе, являются общими для всех экземпляров этого\n",
    "класса, тогда как атрибуты экземпляра у каждого экземпляра имеют собственные\n",
    "данные."
   ]
  },
  {
   "cell_type": "code",
   "execution_count": 23,
   "metadata": {},
   "outputs": [
    {
     "name": "stdout",
     "output_type": "stream",
     "text": [
      "Fido is a canine\n",
      "Buddy is a canine\n"
     ]
    }
   ],
   "source": [
    "class Dog:\n",
    "    kind = \"canine\"         # переменная класса, общая для всех экземпляров\n",
    "\n",
    "    def __init__(self, name):\n",
    "        self.name = name    # переменная экземпляра, для каждого своя\n",
    "\n",
    "fido = Dog(\"Fido\")\n",
    "buddy = Dog(\"Buddy\")\n",
    "\n",
    "for dog in (fido, buddy):\n",
    "    print(f\"{dog.name} is a {dog.kind}\")"
   ]
  },
  {
   "cell_type": "markdown",
   "metadata": {},
   "source": [
    "При использовании переменных мутабельных типов (например, списков), необходимо\n",
    "помнить об этом свойстве атрибутов классов.\n",
    "\n",
    "Например, в коде ниже атрибут *tricks* не будет работать, как ожидается:"
   ]
  },
  {
   "cell_type": "code",
   "execution_count": 24,
   "metadata": {},
   "outputs": [
    {
     "data": {
      "text/plain": [
       "['roll over', 'play dead']"
      ]
     },
     "execution_count": 24,
     "metadata": {},
     "output_type": "execute_result"
    }
   ],
   "source": [
    "class Dog:\n",
    "    tricks = []\n",
    "\n",
    "    def __init__(self, name):\n",
    "        self.name = name\n",
    "\n",
    "    def add_trick(self, trick):\n",
    "        self.tricks.append(trick)\n",
    "\n",
    "\n",
    "fido = Dog(\"Fido\")\n",
    "buddy = Dog(\"Buddy\")\n",
    "\n",
    "fido.add_trick(\"roll over\")\n",
    "buddy.add_trick(\"play dead\")\n",
    "\n",
    "fido.tricks # будет иметь все трюки, не только трюки Fido"
   ]
  },
  {
   "cell_type": "markdown",
   "metadata": {},
   "source": [
    "Исправленный вариант кода будет определять *tricks* как атрибут экземпляра:"
   ]
  },
  {
   "cell_type": "code",
   "execution_count": 25,
   "metadata": {},
   "outputs": [
    {
     "data": {
      "text/plain": [
       "['roll over']"
      ]
     },
     "execution_count": 25,
     "metadata": {},
     "output_type": "execute_result"
    }
   ],
   "source": [
    "class Dog:\n",
    "    def __init__(self, name):\n",
    "        self.tricks = []\n",
    "        self.name = name\n",
    "\n",
    "    def add_trick(self, trick):\n",
    "        self.tricks.append(trick)\n",
    "\n",
    "\n",
    "fido = Dog(\"Fido\")\n",
    "buddy = Dog(\"Buddy\")\n",
    "\n",
    "fido.add_trick(\"roll over\")\n",
    "buddy.add_trick(\"play dead\")\n",
    "\n",
    "fido.tricks # только трюки Fido"
   ]
  },
  {
   "cell_type": "markdown",
   "metadata": {},
   "source": [
    "Если атрибут определен и в классе, и в экземпляре, атрибут экземпляра будет\n",
    "иметь приоритет."
   ]
  },
  {
   "cell_type": "code",
   "execution_count": 27,
   "metadata": {},
   "outputs": [
    {
     "name": "stdout",
     "output_type": "stream",
     "text": [
      "storage west\n",
      "storage east\n"
     ]
    }
   ],
   "source": [
    "class Warehouse:\n",
    "    purpose = \"storage\"\n",
    "    region = \"west\"\n",
    "\n",
    "w1 = Warehouse()\n",
    "w2 = Warehouse()\n",
    "w2.region = \"east\"\n",
    "\n",
    "print(w1.purpose, w1.region)\n",
    "print(w2.purpose, w2.region)"
   ]
  },
  {
   "cell_type": "markdown",
   "metadata": {},
   "source": [
    "Любая функция, являющаяся атрибутом класса, определяет метод для экземпляров\n",
    "класса. При этом необязательно объявлять ее внутри класса:"
   ]
  },
  {
   "cell_type": "code",
   "execution_count": 29,
   "metadata": {},
   "outputs": [
    {
     "data": {
      "text/plain": [
       "(0, 'hello world!', 'hello world!')"
      ]
     },
     "execution_count": 29,
     "metadata": {},
     "output_type": "execute_result"
    }
   ],
   "source": [
    "def f1(self, x, y):\n",
    "    return min(x, x+y)\n",
    "\n",
    "class C:\n",
    "    f = f1\n",
    "\n",
    "    def g(self):\n",
    "        return \"hello world!\"\n",
    "    \n",
    "    h = g\n",
    "\n",
    "c = C()\n",
    "\n",
    "c.f(1,-1), c.g(), c.h()"
   ]
  },
  {
   "cell_type": "markdown",
   "metadata": {},
   "source": [
    "Методы могут вызывать другие методы при помощи аргумента `self`:"
   ]
  },
  {
   "cell_type": "code",
   "execution_count": 30,
   "metadata": {},
   "outputs": [
    {
     "data": {
      "text/plain": [
       "[2, 2]"
      ]
     },
     "execution_count": 30,
     "metadata": {},
     "output_type": "execute_result"
    }
   ],
   "source": [
    "class Bag:\n",
    "    def __init__(self):\n",
    "        self.data = []\n",
    "\n",
    "    def add(self, x):\n",
    "        self.data.append(x)\n",
    "\n",
    "    def add_twice(self, x):\n",
    "        self.add(x)\n",
    "        self.add(x)\n",
    "\n",
    "b = Bag()\n",
    "b.add_twice(2)\n",
    "b.data"
   ]
  },
  {
   "cell_type": "markdown",
   "metadata": {},
   "source": [
    "Каждое значение в Python является объектом и имеет класс (который также\n",
    "называется *типом*). Ссылка на класс объекта хранится в атрибуте `obj.__class__`."
   ]
  },
  {
   "cell_type": "code",
   "execution_count": 34,
   "metadata": {},
   "outputs": [
    {
     "data": {
      "text/plain": [
       "True"
      ]
     },
     "execution_count": 34,
     "metadata": {},
     "output_type": "execute_result"
    }
   ],
   "source": [
    "(1).__class__ == type(1) == int"
   ]
  },
  {
   "cell_type": "markdown",
   "metadata": {},
   "source": [
    "### Наследование"
   ]
  },
  {
   "cell_type": "markdown",
   "metadata": {},
   "source": [
    "Классы Python поддерживают механизм *наследования* &mdash; приобретения\n",
    "атрибутов других существующих классов, что способствует повторному использованию\n",
    "их компонентов.\n",
    "\n",
    "Для противопоставления наследуемых и наследующих классов используются следующие обозначения:\n",
    "\n",
    "| `class B`    | `class A(B)` |\n",
    "| :----------- | :----------- |\n",
    "| предок       | потомок      |\n",
    "| родитель     | наследник    |\n",
    "| родительский | дочерний     |\n",
    "| надкласс     | подкласс     |\n",
    "| base*        | derived      |\n",
    "| parent       | child        |\n",
    "| super class  | subclass     |\n",
    "| ancestor     | descendant   |\n",
    "\n",
    "**в некоторых источниках \"base\" называют классы, не имеющие наследований от\n",
    "других классов*\n",
    "\n",
    "\n",
    "Все классы в Python наследуют от типа `object`."
   ]
  },
  {
   "cell_type": "code",
   "execution_count": 39,
   "metadata": {},
   "outputs": [
    {
     "name": "stdout",
     "output_type": "stream",
     "text": [
      "foo\n",
      "bar\n"
     ]
    }
   ],
   "source": [
    "class A:\n",
    "    def foo(self):\n",
    "        print(\"foo\")\n",
    "\n",
    "class B(A): # класс B наследует от класса A\n",
    "    def bar(self):\n",
    "        print(\"bar\")\n",
    "\n",
    "\n",
    "b = B()\n",
    "b.foo()\n",
    "b.bar()"
   ]
  },
  {
   "cell_type": "markdown",
   "metadata": {},
   "source": [
    "Список родительских классов (их может быть несколько) перечисляется в скобках\n",
    "после имени класса. \n",
    "\n",
    "Если при обращению к атрибуту дочернего класса атрибут не обнаруживается, происходит поиск среди атрибутов родительского класса. Если атрибут не найден и родительский класс также наследует от других классов, поиск продолжается рекурсивно."
   ]
  },
  {
   "cell_type": "code",
   "execution_count": 45,
   "metadata": {},
   "outputs": [
    {
     "name": "stdout",
     "output_type": "stream",
     "text": [
      "B!\n"
     ]
    }
   ],
   "source": [
    "class A:\n",
    "    def do_something(self):\n",
    "        print(\"A!\")\n",
    "\n",
    "class B(A):\n",
    "    def do_something(self):\n",
    "        print(\"B!\")\n",
    "\n",
    "class C(B):\n",
    "    pass\n",
    "\n",
    "class D(C):\n",
    "    pass\n",
    "\n",
    "D().do_something()"
   ]
  },
  {
   "cell_type": "markdown",
   "metadata": {},
   "source": [
    "Python имеет две встроенные функции для работы с наследованием:\n",
    "\n",
    "- `isinstance()` проверяет тип экземпляра: `isinstance(obj, int)` вернет `True` только если `obj.__class__` является `int` или наследует от него.\n",
    "- `issubclass()` проверяет наследование класса: `issubclass(bool, int)` равно\n",
    "  `True`, так как `bool` наследует от `int`, тогда как `issubclass(float, int)`\n",
    "  равно `False`: `float` не наследует от `int`."
   ]
  },
  {
   "cell_type": "code",
   "execution_count": 41,
   "metadata": {},
   "outputs": [
    {
     "data": {
      "text/plain": [
       "True"
      ]
     },
     "execution_count": 41,
     "metadata": {},
     "output_type": "execute_result"
    }
   ],
   "source": [
    "isinstance(D(), A)"
   ]
  },
  {
   "cell_type": "code",
   "execution_count": 42,
   "metadata": {},
   "outputs": [
    {
     "data": {
      "text/plain": [
       "False"
      ]
     },
     "execution_count": 42,
     "metadata": {},
     "output_type": "execute_result"
    }
   ],
   "source": [
    "issubclass(D, int)"
   ]
  },
  {
   "cell_type": "code",
   "execution_count": 47,
   "metadata": {},
   "outputs": [
    {
     "data": {
      "text/plain": [
       "False"
      ]
     },
     "execution_count": 47,
     "metadata": {},
     "output_type": "execute_result"
    }
   ],
   "source": [
    "issubclass(int, object) # верно для любого типа"
   ]
  },
  {
   "cell_type": "markdown",
   "metadata": {},
   "source": [
    "#### Ключевое слово `super`"
   ]
  },
  {
   "cell_type": "markdown",
   "metadata": {},
   "source": [
    "super"
   ]
  },
  {
   "cell_type": "code",
   "execution_count": 69,
   "metadata": {},
   "outputs": [],
   "source": [
    "class Rectangle:\n",
    "    def __init__(self, length, width):\n",
    "        self.length = length\n",
    "        self.width = width\n",
    "\n",
    "    def area(self):\n",
    "        return self.length * self.width\n",
    "\n",
    "    def perimeter(self):\n",
    "        return 2 * self.length + 2 * self.width\n",
    "\n",
    "class Square(Rectangle):\n",
    "    def __init__(self, length):\n",
    "        super().__init__(length, length)\n",
    "\n",
    "class Cube(Square):\n",
    "    def surface_area(self):\n",
    "        face_area = super().area()\n",
    "        return face_area * 6\n",
    "\n",
    "    def volume(self):\n",
    "        face_area = super().area()\n",
    "        return face_area * self.length"
   ]
  },
  {
   "cell_type": "markdown",
   "metadata": {},
   "source": [
    "#### Множественное наследование"
   ]
  },
  {
   "cell_type": "markdown",
   "metadata": {},
   "source": [
    "Python поддерживает классы с множеством родительских классов. Определение такого класса выглядит так:"
   ]
  },
  {
   "cell_type": "code",
   "execution_count": 44,
   "metadata": {},
   "outputs": [],
   "source": [
    "class Base1: pass\n",
    "class Base2: pass\n",
    "class Base3: pass\n",
    "\n",
    "class Derived(Base1, Base2, Base3):\n",
    "    pass"
   ]
  },
  {
   "cell_type": "markdown",
   "metadata": {},
   "source": [
    "Порядок разрешения атрибутов определяется [алгоритмом\n",
    "C3](https://www.python.org/download/releases/2.3/mro/). В упрощенном виде этот\n",
    "алгоритм проходит по родительским классам сначала в глубину, а затем слева\n",
    "направо. Если атрибут экземпляра `Derived` не найден в `Base1`, происходит\n",
    "рекурсивный поиск по всем его родительским классам `Base1`, затем такая же\n",
    "операция производится для `Base2` и так далее.\n",
    "\n",
    "Алгоритм C3 гарантирует, что все родительские классы проверяются только один раз\n",
    "и их порядок слева направо сохраняется вне зависимости от числа под- и\n",
    "надклассов."
   ]
  },
  {
   "cell_type": "markdown",
   "metadata": {},
   "source": [
    "Итоговый порядок разрешения атрибутов (также порядок разрешения методов, method resolution order или MRO) содержится в атрибуте класса `__mro__`:"
   ]
  },
  {
   "cell_type": "code",
   "execution_count": 71,
   "metadata": {},
   "outputs": [
    {
     "data": {
      "text/plain": [
       "[__main__.A,\n",
       " __main__.B,\n",
       " __main__.C,\n",
       " __main__.D,\n",
       " __main__.E,\n",
       " __main__.F,\n",
       " object]"
      ]
     },
     "execution_count": 71,
     "metadata": {},
     "output_type": "execute_result"
    }
   ],
   "source": [
    "class F: pass\n",
    "class E: pass\n",
    "class D: pass\n",
    "class C(D, F): pass\n",
    "class B(D, E): pass\n",
    "class A(B, C): pass\n",
    "\n",
    "A.__mro__"
   ]
  },
  {
   "cell_type": "markdown",
   "metadata": {},
   "source": [
    "### Методы классов и статические методы"
   ]
  },
  {
   "cell_type": "markdown",
   "metadata": {},
   "source": [
    "Python поддерживает два особенных типа методов: методы класса и статические\n",
    "методы, определяемые с помощью декораторов `@classmethod` и `@staticmethod`\n",
    "соответственно.\n",
    "\n",
    "Методы класса получают первым аргументом не экземпляр класса, а сам объект\n",
    "класса, и обычно вызываются на самом классе. Классическим сценарием\n",
    "использования метода класса является определение альтернативного конструктора\n",
    "экземпляра (впротивовес `__init__()`)."
   ]
  },
  {
   "cell_type": "code",
   "execution_count": null,
   "metadata": {},
   "outputs": [],
   "source": [
    "class MyNum:\n",
    "    def __init__(self, num):\n",
    "        self.num = num\n",
    "\n",
    "    @classmethod\n",
    "    def from_str(cls, string):\n",
    "        return cls(float(string))"
   ]
  },
  {
   "cell_type": "markdown",
   "metadata": {},
   "source": [
    "Статические методы не получают никаких специальных аргументов и могут\n",
    "использоваться для привязки фукнций-утилит к пространству имен класса."
   ]
  },
  {
   "cell_type": "code",
   "execution_count": 51,
   "metadata": {},
   "outputs": [
    {
     "data": {
      "text/plain": [
       "'2024-03-09T19:00:00'"
      ]
     },
     "execution_count": 51,
     "metadata": {},
     "output_type": "execute_result"
    }
   ],
   "source": [
    "from datetime import datetime\n",
    "\n",
    "\n",
    "class MyDate:\n",
    "    def __init__(self, epoch) -> None:\n",
    "        self.epoch = epoch\n",
    "    \n",
    "    @staticmethod\n",
    "    def format_date(date):\n",
    "        return datetime.fromtimestamp(date.epoch).isoformat()\n",
    "    \n",
    "\n",
    "MyDate.format_date(MyDate(1710000000))"
   ]
  },
  {
   "cell_type": "markdown",
   "metadata": {},
   "source": [
    "### Магические методы"
   ]
  },
  {
   "cell_type": "markdown",
   "metadata": {},
   "source": [
    "**Магические** или **специальные методы** (magic methods, special methods)\n",
    "позволяют классам реализовывать собственную логику работы стандартных операторов\n",
    "Python. Названия магических методов начинаются и заканчиваются двумя нижними\n",
    "подчеркиваниями, из-за чего их также называют **dunder-методами** (от double\n",
    "underscore).\n",
    "\n",
    "К примеру, если класс определяет метод `__getitem__`, а `x` &mdash; экземпляр этого класса, то `x[i]` будет примерно равно `type(x).__getitem__(x, i)`.\n",
    "\n",
    "Ниже приведены наиболее полезные магические методы."
   ]
  },
  {
   "cell_type": "markdown",
   "metadata": {},
   "source": [
    "#### `object.__new__(cls[, ...])` и `object.__init__(self[, ...])`"
   ]
  },
  {
   "cell_type": "markdown",
   "metadata": {},
   "source": [
    "> `__new__` является методом класса, но не требует специального декоратора при объявлении.\n",
    "\n",
    "Методы `__new__` и `__init__` вызываются по очереди для конструирования нового объекта: `__new__` создает объект, `__init__` его инициализирует.\n",
    "\n",
    "`__new__` и `__init__` получают все аргументы, переданные при инстанциировании\n",
    "экземпляра. Возвращаемым значением `__new__` является новый объект, обычно типа\n",
    "*cls*. Метод `__init__` может возвращать только значение `None`, иначе возникает\n",
    "`TypeError`."
   ]
  },
  {
   "cell_type": "code",
   "execution_count": 59,
   "metadata": {},
   "outputs": [
    {
     "name": "stdout",
     "output_type": "stream",
     "text": [
      "(1, 2, 3)\n",
      "(1, 2, 3)\n"
     ]
    }
   ],
   "source": [
    "class Foo:\n",
    "    def __new__(cls, *args):\n",
    "        print(args)\n",
    "        return super().__new__(cls)\n",
    "\n",
    "    def __init__(self, *args):\n",
    "        print(args)\n",
    "\n",
    "f = Foo(1,2,3)"
   ]
  },
  {
   "cell_type": "markdown",
   "metadata": {},
   "source": [
    "#### `object.__repr__(self)` и `object.__str__(self)`\n",
    "\n",
    "Эти методы вызываются функциями `repr()` и `str()` соответственно и возвращают\n",
    "строковое представление объекта.\n",
    "\n",
    "Если это возможно, метод `__repr__` должен возвращать валидное выражение Python,\n",
    "которое может быть использовано для воссоздания объекта с такими же данными.\n",
    "Иначе возвращаемая строка должна иметь вид `<...описание объекта...>` (без\n",
    "многоточих). \n",
    "\n",
    "Если объект определяет `__repr__`, но не `__str__`, то `__repr__` используется в контекстах, где требуется `__str__`.\n",
    "\n",
    "Обычно метод `__repr__` используется для отладки, поэтому важно,\n",
    "чтобы возвращаемая им информация была полной и полезной.\n",
    "\n",
    "Метод `__str__` возвращает \"неформальное\" представление объекта и автоматически используется функцией `print()`. При отстутствии определения этого метода вызывается `object.__repr__()`."
   ]
  },
  {
   "cell_type": "code",
   "execution_count": 61,
   "metadata": {},
   "outputs": [
    {
     "name": "stdout",
     "output_type": "stream",
     "text": [
      "datetime.datetime(2024, 3, 9, 0, 0)\n",
      "2024-03-09 00:00:00\n"
     ]
    }
   ],
   "source": [
    "from datetime import datetime\n",
    "\n",
    "print(repr(datetime(2024, 3, 9)))\n",
    "print(str(datetime(2024, 3, 9)))"
   ]
  },
  {
   "cell_type": "markdown",
   "metadata": {},
   "source": [
    "#### `object.__lt__(self, other)` и другие методы сравнения"
   ]
  },
  {
   "cell_type": "markdown",
   "metadata": {},
   "source": [
    "Python позволяет определять собственную логику сравнения объектов. Ниже приведены методы сравнения и соответствующие им операторы.\n",
    "\n",
    "| Метод         | Оператор |\n",
    "| :------------ | :------: |\n",
    "| `x.__lt__(y)` |  `x<y`   |\n",
    "| `x.__le__(y)` |  `x<=y`  |\n",
    "| `x.__eq__(y)` |  `x==y`  |\n",
    "| `x.__ne__(y)` |  `x!=y`  |\n",
    "| `x.__gt__(y)` |  `x>y`   |\n",
    "| `x.__ge__(y)` |  `x>=y`  |"
   ]
  },
  {
   "cell_type": "markdown",
   "metadata": {},
   "source": [
    "Если операция не поддерживается для данного набора операндов, метод сравнения может вернуть специальный объект `NotImplemented` (например, при сравнении объектов несовместимых типов).\n",
    "\n",
    "Обычно, результат успешного сравнения является значением `True` либо `False`.\n",
    "Тем не менее, метод сравнения может вернуть любое значение, и в случае\n",
    "использования в логическом контексте (например, внутри условия `if`) оно будет\n",
    "приведено с помощью функции `bool()`.\n",
    "\n",
    "Декоратор `functools.total_ordering` позволяет автоматически сгенерировать все методы сравнения для классов, определяющих метод `__eq__` и хотя бы один из методов `__lt__`, `__le__`, `__gt__` или `__ge__`."
   ]
  },
  {
   "cell_type": "markdown",
   "metadata": {},
   "source": [
    "#### `object.__bool__(self)`"
   ]
  },
  {
   "cell_type": "markdown",
   "metadata": {},
   "source": [
    "Вызывается в логических контекстах (`if`, `while`) и функцией `bool()`; должен возвращать `True` либо `False`. При отсутствии этого метода вызывается метод `__len__`, если он определен; результат считается истинным, если он отличен от нуля. При отсутствии `__bool__` и `__len__` все экземпляры объекта считаются истинными."
   ]
  },
  {
   "cell_type": "markdown",
   "metadata": {},
   "source": [
    "#### `object.__call__(self[, args...])`"
   ]
  },
  {
   "cell_type": "markdown",
   "metadata": {},
   "source": [
    "Вызывается при \"вызове\" объекта наподобие функции; `x(arg1, arg2)` примерно\n",
    "эквивалентно `type(x).__call__(arg1, arg2)`."
   ]
  },
  {
   "cell_type": "code",
   "execution_count": 63,
   "metadata": {},
   "outputs": [
    {
     "data": {
      "text/plain": [
       "5"
      ]
     },
     "execution_count": 63,
     "metadata": {},
     "output_type": "execute_result"
    }
   ],
   "source": [
    "class Add:\n",
    "    def __init__(self, val) -> None:\n",
    "        self.val = val\n",
    "    \n",
    "    def __call__(self, x):\n",
    "        return self.val + x\n",
    "    \n",
    "Add(2)(3)"
   ]
  },
  {
   "cell_type": "markdown",
   "metadata": {},
   "source": [
    "#### `object.__len__(self)`"
   ]
  },
  {
   "cell_type": "markdown",
   "metadata": {},
   "source": [
    "Используется функцией `len()`. Должен возвращать длину объекта, целое число большее или равное 0."
   ]
  },
  {
   "cell_type": "markdown",
   "metadata": {},
   "source": [
    "#### `object.__getitem__(self, key)`"
   ]
  },
  {
   "cell_type": "markdown",
   "metadata": {},
   "source": [
    "Используется при вычислении `self[key]`. Для последовательностей принимаемые\n",
    "ключи должны быть целыми числами. Опционально возможна поддержка объектов\n",
    "`slice` (для поддержки выражений вида `x[start:stop:step]`) или отрицательных\n",
    "индексов.\n",
    "\n",
    "Если ключ некорректного типа, может быть выброшено исключение `TypeError`. \n",
    "\n",
    "Если ключ вне диапазона допустимых индексов, **должно** выбрасываться исключение `IndexError` (так, например, цикл `for` может определить конец последовательности).\n",
    "\n",
    "Для словарей при использовании отсутствующих ключей должно выбрасываться\n",
    "исключение `KeyError`."
   ]
  },
  {
   "cell_type": "code",
   "execution_count": 67,
   "metadata": {},
   "outputs": [
    {
     "name": "stdout",
     "output_type": "stream",
     "text": [
      "MyList.__getitem__ was called with key = -1\n",
      "MyList.__getitem__ was called with key = slice(1, 3, None)\n"
     ]
    },
    {
     "data": {
      "text/plain": [
       "[2, 3]"
      ]
     },
     "execution_count": 67,
     "metadata": {},
     "output_type": "execute_result"
    }
   ],
   "source": [
    "class MyList(list):\n",
    "    def __getitem__(self, key):\n",
    "        print(f\"MyList.__getitem__ was called with {key = }\")\n",
    "        return super().__getitem__(key)\n",
    "\n",
    "l = MyList([1,2,3])\n",
    "l[-1]\n",
    "l[1:3]"
   ]
  },
  {
   "cell_type": "markdown",
   "metadata": {},
   "source": [
    "#### `object.__setitem__(self, key, value)` и `object.__delitem__(self, key)`"
   ]
  },
  {
   "cell_type": "markdown",
   "metadata": {},
   "source": [
    "Аналогичны методу `__getitem__`, но используются для выражений `self[key] =\n",
    "value` и `del self[key]` соответственно."
   ]
  },
  {
   "cell_type": "markdown",
   "metadata": {},
   "source": [
    "#### `object.__contains__(self, item)`\n",
    "\n",
    "Выполняет проверку наличия элемента в объекте. Для словарей должен проверять\n",
    "наличие ключа, а не значения.\n",
    "\n",
    "При отсутствии этого метода выполняется перебор значений объекта через `__iter__`, после чего через `__getitem__`."
   ]
  },
  {
   "cell_type": "markdown",
   "metadata": {},
   "source": [
    "#### Арифметические методы"
   ]
  },
  {
   "cell_type": "markdown",
   "metadata": {},
   "source": [
    "Методы ниже позволяют выполнять математические операции подобно объектам\n",
    "числовых типов.\n",
    "\n",
    "| Метод               |   Операция    |\n",
    "| :------------------ | :-----------: |\n",
    "| `x.__add__(y)`      |     `x+y`     |\n",
    "| `x.__sub__(y)`      |     `x-y`     |\n",
    "| `x.__mul__(y)`      |     `x*y`     |\n",
    "| `x.__matmul__(y)`   |     `x@y`     |\n",
    "| `x.__truediv__(y)`  |     `x/y`     |\n",
    "| `x.__floordiv__(y)` |    `x//y`     |\n",
    "| `x.__mod__(y)`      |     `x%y`     |\n",
    "| `x.__divmod__(y)`   | `divmod(x,y)` |\n",
    "| `x.__pow__(y)`      |    `x**y`     |"
   ]
  },
  {
   "cell_type": "code",
   "execution_count": 68,
   "metadata": {},
   "outputs": [
    {
     "data": {
      "text/plain": [
       "6"
      ]
     },
     "execution_count": 68,
     "metadata": {},
     "output_type": "execute_result"
    }
   ],
   "source": [
    "class MyNum(int):\n",
    "    def __add__(self, other):\n",
    "        return self * other\n",
    "    \n",
    "MyNum(3) + 2"
   ]
  },
  {
   "cell_type": "markdown",
   "metadata": {},
   "source": [
    "Методы, указанные выше, вызываются на левом операнде выражения, то есть выражение `x + y` эквивалентно вызову `type(x).__add__(x, y)`, если `type(x)` определяет такой метод.\n",
    "\n",
    "Если левый операнд не поддерживает нужную операцию и операнды разных типов, то\n",
    "правый операнд проверяется на наличие соответствующего метода с префиксом `r`,\n",
    "например, `__radd__`, `__rmul__` и так далее. В примере выше при отсутствии\n",
    "метода `type(x).__add__` или возврате им значения `NotImplemented` был бы вызван\n",
    "метод `type(y).__radd__(x)`."
   ]
  },
  {
   "cell_type": "markdown",
   "metadata": {},
   "source": [
    "Для поддержки операций с присвоением (`+=`, `*=`) используются методы с префиксом `i`, например `__isub__`, `__itruediv__` и так далее."
   ]
  }
 ],
 "metadata": {
  "kernelspec": {
   "display_name": ".venv",
   "language": "python",
   "name": "python3"
  },
  "language_info": {
   "codemirror_mode": {
    "name": "ipython",
    "version": 3
   },
   "file_extension": ".py",
   "mimetype": "text/x-python",
   "name": "python",
   "nbconvert_exporter": "python",
   "pygments_lexer": "ipython3",
   "version": "3.11.4"
  }
 },
 "nbformat": 4,
 "nbformat_minor": 2
}
